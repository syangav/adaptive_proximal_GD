{
 "cells": [
  {
   "cell_type": "markdown",
   "metadata": {},
   "source": [
    "## Matrix factorization\n",
    "\n",
    "We want to minimize\n",
    "$$\\min_X f(X)=f(U,V):=\\frac 1 2 \\|U V^\\top - A\\|^2_F,$$\n",
    "where  $A\\in {\\mathbb R}^{m\\times n}$, $U\\in {\\mathbb R}^{m\\times r}$, $V\\in {\\mathbb R}^{n\\times r}$ and $r<\\min\\{m,n\\}$.\n",
    "The gradient is given by $\\nabla f(X) = [(UV^\\top -A) V^\\top, (UV^\\top-A)^\\top U]^\\top$.\n",
    "\n",
    "This is a nonconvex problem, moreover due to the product $UV^\\top$, the gradient $\\nabla f$ is not globally Lipschitz (but locally is).\n",
    "\n",
    "For this experiment we used [Movielens 100K dataset](https://grouplens.org/datasets/movielens/100k/). In particular, we used the file `u.data` from that archive.\n",
    "\n"
   ]
  },
  {
   "cell_type": "code",
   "execution_count": 1,
   "metadata": {},
   "outputs": [],
   "source": [
    "import numpy as np\n",
    "import scipy.linalg as LA\n",
    "import pandas as pd\n",
    "import seaborn as sns\n",
    "from matplotlib import pyplot as plt\n",
    "from algorithms import *\n",
    "\n",
    "\n",
    "%load_ext autoreload\n",
    "%autoreload 2"
   ]
  },
  {
   "cell_type": "markdown",
   "metadata": {},
   "source": [
    "We load the dataset and write all data to the sparse matrix $A$. This matrix will collect movie ratings from $943$ users on $1682$ movies."
   ]
  },
  {
   "cell_type": "code",
   "execution_count": 2,
   "metadata": {},
   "outputs": [
    {
     "name": "stdout",
     "output_type": "stream",
     "text": [
      "The dimensions of A are: 943 1682\n"
     ]
    }
   ],
   "source": [
    "# Load data from disk\n",
    "names = ['user_id', 'item_id', 'rating', 'timestamp']\n",
    "df = pd.read_csv('datasets/u.data', sep='\\t', names=names)\n",
    "n_users = df.user_id.unique().shape[0]\n",
    "n_items = df.item_id.unique().shape[0]\n",
    "\n",
    "# Create r_{ui}, our ratings matrix\n",
    "ratings = np.zeros((n_users, n_items))\n",
    "for row in df.itertuples():\n",
    "    ratings[row[1]-1, row[2]-1] = row[3]\n",
    "\n",
    "A = ratings\n",
    "m, n = A.shape\n",
    "print(\"The dimensions of A are:\", m, n)"
   ]
  },
  {
   "cell_type": "code",
   "execution_count": 3,
   "metadata": {},
   "outputs": [],
   "source": [
    "# Choose the value for r (10, 20, 30)\n",
    "\n",
    "r = 20\n",
    "\n",
    "def f(X):\n",
    "    U, V = X[:m], X[m:]\n",
    "    return 0.5* LA.norm(U @ V.T - A)**2\n",
    "\n",
    "def df(X):\n",
    "    U, V = X[:m], X[m:]\n",
    "    res = U @ V.T - A\n",
    "    grad_U = res @ V\n",
    "    grad_V = res.T @ U\n",
    "    return np.vstack([grad_U, grad_V])\n",
    "\n",
    "\n",
    "# evaluation function.\n",
    "J = lambda x: LA.norm(x)\n",
    "\n",
    "# the starting point \n",
    "np.random.seed(0)\n",
    "X0 = np.random.randn(m + n, r)\n",
    "\n"
   ]
  },
  {
   "cell_type": "markdown",
   "metadata": {},
   "source": [
    "Notice that in order to run GD or AGD, we require manually to tune a stepsize $1/L$. We found it by many rounds of trial and errors. Interestingly, both these methods converge with different steps, and they both diverge if one takes in two times larger steps respectively.\n",
    "\n",
    "GD doesn't work with L = 500, but works with L = 1000\n",
    "\n",
    "AGD works with L = 30000, doesn't work even with L = 20000 (after approximately 2000 iteration starts to diverge)\n",
    "\n",
    "\n"
   ]
  },
  {
   "cell_type": "code",
   "execution_count": 4,
   "metadata": {},
   "outputs": [
    {
     "name": "stdout",
     "output_type": "stream",
     "text": [
      "Time execution for GD: 309.218368198\n"
     ]
    }
   ],
   "source": [
    "# gradient descent\n",
    "N = 70000\n",
    "L = 1000\n",
    "ans1 = gd(J, df, X0, 1./L, numb_iter=N)\n"
   ]
  },
  {
   "cell_type": "markdown",
   "metadata": {},
   "source": [
    "Check that it doesn't work with L=500"
   ]
  },
  {
   "cell_type": "code",
   "execution_count": 9,
   "metadata": {
    "scrolled": true
   },
   "outputs": [
    {
     "name": "stdout",
     "output_type": "stream",
     "text": [
      "array must not contain infs or NaNs\n"
     ]
    },
    {
     "name": "stderr",
     "output_type": "stream",
     "text": [
      "/Users/mishchk/anaconda3/lib/python3.7/site-packages/ipykernel_launcher.py:12: RuntimeWarning: overflow encountered in matmul\n",
      "  if sys.path[0] == '':\n",
      "/Users/mishchk/anaconda3/lib/python3.7/site-packages/ipykernel_launcher.py:13: RuntimeWarning: overflow encountered in matmul\n",
      "  del sys.path[0]\n"
     ]
    }
   ],
   "source": [
    "# checking that smaller step will not work for GD\n",
    "# you can skip it\n",
    "N = 1000\n",
    "L = 500\n",
    "try:\n",
    "    ans1_not = gd(J, df, X0, 1./L, numb_iter=N)\n",
    "except Exception as e:\n",
    "    print(e)"
   ]
  },
  {
   "cell_type": "code",
   "execution_count": 6,
   "metadata": {},
   "outputs": [
    {
     "name": "stdout",
     "output_type": "stream",
     "text": [
      "Time execution for accelerated GD: 344.2011235870002\n"
     ]
    }
   ],
   "source": [
    "# Nesterov accelerated gradient descent\n",
    "N = 70000\n",
    "L = 30000\n",
    "ans2 = accel_gd(J, df, X0, 1./L, numb_iter=N)\n"
   ]
  },
  {
   "cell_type": "code",
   "execution_count": 13,
   "metadata": {},
   "outputs": [
    {
     "name": "stdout",
     "output_type": "stream",
     "text": [
      "array must not contain infs or NaNs\n"
     ]
    },
    {
     "name": "stderr",
     "output_type": "stream",
     "text": [
      "/Users/mishchk/anaconda3/lib/python3.7/site-packages/ipykernel_launcher.py:12: RuntimeWarning: overflow encountered in matmul\n",
      "  if sys.path[0] == '':\n",
      "/Users/mishchk/anaconda3/lib/python3.7/site-packages/ipykernel_launcher.py:13: RuntimeWarning: overflow encountered in matmul\n",
      "  del sys.path[0]\n"
     ]
    }
   ],
   "source": [
    "# checking that smaller step will not work for acceleretaed GD\n",
    "# you can skip it\n",
    "N = 10000\n",
    "L = 15000\n",
    "try:\n",
    "    ans2_not = accel_gd(J, df, X0, 1./L, numb_iter=N)\n",
    "except Exception as e:\n",
    "    print(e)"
   ]
  },
  {
   "cell_type": "code",
   "execution_count": 7,
   "metadata": {},
   "outputs": [
    {
     "name": "stdout",
     "output_type": "stream",
     "text": [
      "Time execution of adaptive gradient descent: 299.878739926\n"
     ]
    }
   ],
   "source": [
    "# adaptive GD\n",
    "N = 70000\n",
    "ans3 = ad_grad(J, df, X0, 1e-9, numb_iter=N)"
   ]
  },
  {
   "cell_type": "code",
   "execution_count": 20,
   "metadata": {},
   "outputs": [
    {
     "name": "stdout",
     "output_type": "stream",
     "text": [
      "Time execution of adaptive gradient descent: 340.3383180159999\n"
     ]
    }
   ],
   "source": [
    "# adaptive acelerated GD (heuristic)\n",
    "N = 70000\n",
    "ans5 = ad_grad_accel(J, df, X0, 1e-9, numb_iter=N)"
   ]
  },
  {
   "cell_type": "markdown",
   "metadata": {},
   "source": [
    "Make the plots"
   ]
  },
  {
   "cell_type": "code",
   "execution_count": 21,
   "metadata": {},
   "outputs": [
    {
     "data": {
      "text/plain": [
       "<matplotlib.legend.Legend at 0x1a1eba7198>"
      ]
     },
     "execution_count": 21,
     "metadata": {},
     "output_type": "execute_result"
    },
    {
     "data": {
      "image/png": "[encoded data removed]",
      "text/plain": [
       "<Figure size 576x432 with 1 Axes>"
      ]
     },
     "metadata": {},
     "output_type": "display_data"
    }
   ],
   "source": [
    "sns.set(style=\"whitegrid\", context=\"talk\", font_scale=1.2, palette=sns.color_palette(\"bright\"), color_codes=False)\n",
    "\n",
    "\n",
    "answers = [ans1, ans2, ans3, ans5]\n",
    "values = [ans[0] for ans in answers]\n",
    "labels = [\"GD\", \"Nesterov\", \"AdGD\", \"AdGD-accel\"]\n",
    "markers = [',', 'o', '*',  'D']\n",
    "colors = [(0.00784313725490196, 0.24313725490196078, 1.0), \n",
    "          (1.0, 0.48627450980392156, 0.0), \n",
    "          (0.10196078431372549, 0.788235294117647, 0.2196078431372549),\n",
    "          (0.9098039215686274, 0.0, 0.043137254901960784),\n",
    "          (0.5450980392156862, 0.16862745098039217, 0.8862745098039215), \n",
    "          (0.6235294117647059, 0.2823529411764706, 0.0), \n",
    "          (0.9450980392156862, 0.2980392156862745, 0.7568627450980392), \n",
    "          (0.6392156862745098, 0.6392156862745098, 0.6392156862745098), \n",
    "          (1.0, 0.7686274509803922, 0.0), (0.0, 0.8431372549019608, 1.0)]\n",
    "\n",
    "n_plot = 400\n",
    "plt.figure(figsize=(8,6))\n",
    "for i, val in enumerate(values):\n",
    "    skip = len(val) // n_plot\n",
    "    plt.plot(\n",
    "        np.arange(0, len(val), skip), \n",
    "        val[::skip], label=labels[i], color=colors[i],\n",
    "        marker=markers[i], markevery=20)\n",
    "    \n",
    "plt.yscale('log')\n",
    "plt.xlabel(u'Iteration')\n",
    "plt.ylabel(r'$\\Vert \\nabla f(x^k)\\Vert$')\n",
    "plt.legend()\n",
    "#plt.savefig('../plots/for_paper/factorization={}.pdf'.format(r), bbox_inches='tight', dpi=300)\n"
   ]
  },
  {
   "cell_type": "markdown",
   "metadata": {},
   "source": [
    "Save all data points"
   ]
  },
  {
   "cell_type": "code",
   "execution_count": 18,
   "metadata": {},
   "outputs": [],
   "source": [
    "np.save('saved_data/factorization-{}.npy'.format(r), np.vstack([ans[0] for ans in answers]))  "
   ]
  }
 ],
 "metadata": {
  "kernelspec": {
   "display_name": "Python 3",
   "language": "python",
   "name": "python3"
  },
  "language_info": {
   "codemirror_mode": {
    "name": "ipython",
    "version": 3
   },
   "file_extension": ".py",
   "mimetype": "text/x-python",
   "name": "python",
   "nbconvert_exporter": "python",
   "pygments_lexer": "ipython3",
   "version": "3.7.3"
  }
 },
 "nbformat": 4,
 "nbformat_minor": 4
}
